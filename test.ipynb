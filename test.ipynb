{
 "cells": [
  {
   "cell_type": "code",
   "execution_count": null,
   "metadata": {},
   "outputs": [],
   "source": [
    "%load_ext autoreload\n",
    "%autoreload 2\n",
    "\n",
    "import matplotlib.pyplot as plt\n",
    "import numpy as np\n",
    "import torch\n",
    "\n",
    "from data_loader import DataLoader"
   ]
  },
  {
   "cell_type": "markdown",
   "metadata": {},
   "source": [
    "# Data Loading"
   ]
  },
  {
   "cell_type": "code",
   "execution_count": null,
   "metadata": {},
   "outputs": [],
   "source": [
    "data_loader = DataLoader()"
   ]
  },
  {
   "cell_type": "code",
   "execution_count": null,
   "metadata": {},
   "outputs": [],
   "source": [
    "# MTS data loading\n",
    "mts_datasets = data_loader.get_mts_datasets()\n",
    "X_train, y_train = data_loader.load_mts_dataset(mts_datasets[1], split=\"train\")\n",
    "X_test, y_test = data_loader.load_mts_dataset(mts_datasets[1], split=\"test\")\n",
    "print(\"Train\", X_train.shape, y_train.shape)\n",
    "print(\"Test\", X_test.shape, y_test.shape)"
   ]
  },
  {
   "cell_type": "code",
   "execution_count": null,
   "metadata": {},
   "outputs": [],
   "source": [
    "# Text data loading\n",
    "X, y = data_loader.load_text_dataset(\"data\")\n",
    "print(X[:5])\n",
    "print(X.shape)\n",
    "print(y[:5])\n",
    "print(y.shape)"
   ]
  },
  {
   "cell_type": "markdown",
   "metadata": {},
   "source": [
    "# Time Series"
   ]
  },
  {
   "cell_type": "code",
   "execution_count": null,
   "metadata": {},
   "outputs": [],
   "source": [
    "from encoder import CausalCNNEncoder\n",
    "# Model parameters\n",
    "\n",
    "# CNN parameters\n",
    "# Input channels is always 1 (since we are using 1D convolutions)\n",
    "in_channels = 1\n",
    "# Hidden channels within the CNN layers\n",
    "channels = 20\n",
    "depth = 3\n",
    "# Output size of the convolutional layers\n",
    "reduced_size = 80\n",
    "# Convolution kernel size\n",
    "kernel_size = 3\n",
    "\n",
    "# Encoder parameters\n",
    "# Output dimensionality of the encoder\n",
    "out_channels = 160\n",
    "\n",
    "causal_cnn = CausalCNNEncoder(in_channels,\n",
    "                       channels,\n",
    "                       depth,\n",
    "                       reduced_size,\n",
    "                       out_channels,\n",
    "                       kernel_size).double()"
   ]
  },
  {
   "cell_type": "code",
   "execution_count": null,
   "metadata": {},
   "outputs": [],
   "source": [
    "from triplet_loss import PNTripletLoss\n",
    "# Training parameters\n",
    "batch_size = 16\n",
    "\n",
    "epochs = 30\n",
    "lr = 0.001\n",
    "\n",
    "loss_function = PNTripletLoss()\n",
    "optimizer = torch.optim.Adam(causal_cnn.parameters(), lr=lr)"
   ]
  },
  {
   "cell_type": "code",
   "execution_count": null,
   "metadata": {},
   "outputs": [],
   "source": [
    "from utils import Dataset\n",
    "train_dataset = Dataset(X_train)\n",
    "train_generator = torch.utils.data.DataLoader(train_dataset, batch_size, shuffle=True)"
   ]
  },
  {
   "cell_type": "code",
   "execution_count": null,
   "metadata": {},
   "outputs": [],
   "source": [
    "# Encoder training\n",
    "torch.manual_seed(0)\n",
    "np.random.seed(0)\n",
    "history = []\n",
    "for i in range(epochs):\n",
    "    for batch in train_generator:\n",
    "        optimizer.zero_grad()\n",
    "        # No model call here, that is done in the loss function directly\n",
    "        loss = loss_function(batch, causal_cnn)\n",
    "        loss.backward()\n",
    "        optimizer.step()\n",
    "    print(\"Epoch\", i+1, loss)\n",
    "    history.append(loss)\n",
    "history = torch.tensor(history)\n",
    "plt.plot(history.unsqueeze(dim=1))\n",
    "plt.xticks(np.arange(epochs))\n",
    "plt.xlabel(\"Epoch\")\n",
    "plt.ylabel(\"Triplet Loss\");"
   ]
  },
  {
   "cell_type": "markdown",
   "metadata": {},
   "source": [
    "# Text"
   ]
  }
 ],
 "metadata": {
  "kernelspec": {
   "display_name": "Python 3",
   "language": "python",
   "name": "python3"
  },
  "language_info": {
   "codemirror_mode": {
    "name": "ipython",
    "version": 3
   },
   "file_extension": ".py",
   "mimetype": "text/x-python",
   "name": "python",
   "nbconvert_exporter": "python",
   "pygments_lexer": "ipython3",
   "version": "3.9.6"
  }
 },
 "nbformat": 4,
 "nbformat_minor": 2
}
