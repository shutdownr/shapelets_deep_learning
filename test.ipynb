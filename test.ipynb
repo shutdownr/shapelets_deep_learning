{
 "cells": [
  {
   "cell_type": "code",
   "execution_count": null,
   "metadata": {},
   "outputs": [],
   "source": [
    "%load_ext autoreload\n",
    "%autoreload 2\n",
    "\n",
    "import matplotlib.pyplot as plt\n",
    "import numpy as np\n",
    "import torch\n",
    "\n",
    "from data_loader import DataLoader\n",
    "from pipeline import get_default_config, train, plot_history, classify_shapelets"
   ]
  },
  {
   "cell_type": "markdown",
   "metadata": {},
   "source": [
    "# Data Loading"
   ]
  },
  {
   "cell_type": "code",
   "execution_count": null,
   "metadata": {},
   "outputs": [],
   "source": [
    "data_loader = DataLoader()"
   ]
  },
  {
   "cell_type": "code",
   "execution_count": null,
   "metadata": {},
   "outputs": [],
   "source": [
    "# MTS data loading\n",
    "mts_datasets = data_loader.get_mts_datasets()"
   ]
  },
  {
   "cell_type": "code",
   "execution_count": null,
   "metadata": {},
   "outputs": [],
   "source": [
    "# Text data loading\n",
    "X, y = data_loader.load_text_dataset(\"data\")\n",
    "print(X[:5])\n",
    "print(X.shape)\n",
    "print(y[:5])\n",
    "print(y.shape)"
   ]
  },
  {
   "cell_type": "markdown",
   "metadata": {},
   "source": [
    "# Time Series"
   ]
  },
  {
   "cell_type": "code",
   "execution_count": null,
   "metadata": {},
   "outputs": [],
   "source": [
    "from shapelet_extraction import get_shapelets_mts\n",
    "\n",
    "config = get_default_config()\n",
    "config[\"stride\"] = 1\n",
    "\n",
    "X_train, y_train = data_loader.load_mts_dataset(\"BasicMotions\", split=\"train\")\n",
    "X_test, y_test = data_loader.load_mts_dataset(\"BasicMotions\", split=\"test\")\n",
    "\n",
    "out = get_shapelets_mts(X_train, l=config[\"l\"], s=config[\"stride\"], return_channels=True, Y=y_train, return_labels=True)\n",
    "print(out[0].shape)\n",
    "print(out[1].shape)\n",
    "print(out[2].shape)\n",
    "\n",
    "X_train, y_train = data_loader.load_mts_dataset(\"JapaneseVowels\", split=\"train\")\n",
    "X_test, y_test = data_loader.load_mts_dataset(\"JapaneseVowels\", split=\"test\")\n",
    "\n",
    "out = get_shapelets_mts(X_train, l=config[\"l\"], s=config[\"stride\"], return_channels=True, Y=y_train, return_labels=True)\n",
    "print(out[0].shape)\n",
    "print(out[1].shape)\n",
    "print(out[2].shape)"
   ]
  },
  {
   "cell_type": "code",
   "execution_count": null,
   "metadata": {},
   "outputs": [],
   "source": [
    "config = get_default_config()\n",
    "config[\"stride\"] = 5\n",
    "\n",
    "X_train, y_train = data_loader.load_mts_dataset(\"JapaneseVowels\", split=\"train\")\n",
    "X_test, y_test = data_loader.load_mts_dataset(\"JapaneseVowels\", split=\"test\")\n",
    "history, encoder = train(X_train, config, random_state=42, debug=False)\n",
    "plot_history(history, f\"plots/encoder_training_JapaneseVowels.pdf\")\n",
    "\n",
    "classify_shapelets(X_train, y_train, X_test, y_test, config, encoder)"
   ]
  },
  {
   "cell_type": "code",
   "execution_count": null,
   "metadata": {},
   "outputs": [],
   "source": [
    "# Note: Can put all parameters in the config dict\n",
    "#       Can then do whatever ablation studies / experiments with that\n",
    "config = get_default_config()\n",
    "config[\"stride\"] = 5\n",
    "for dataset in mts_datasets:\n",
    "    print(dataset)\n",
    "    X_train, y_train = data_loader.load_mts_dataset(dataset, split=\"train\")\n",
    "    X_test, y_test = data_loader.load_mts_dataset(dataset, split=\"test\")\n",
    "    history, encoder = train(X_train, config, random_state=42, debug=False)\n",
    "    plot_history(history, f\"plots/encoder_training_{dataset}.pdf\")\n",
    "    \n",
    "    classify_shapelets(X_train, y_train, X_test, y_test, config, encoder)"
   ]
  },
  {
   "cell_type": "markdown",
   "metadata": {},
   "source": [
    "# Text"
   ]
  }
 ],
 "metadata": {
  "kernelspec": {
   "display_name": "Python 3",
   "language": "python",
   "name": "python3"
  },
  "language_info": {
   "codemirror_mode": {
    "name": "ipython",
    "version": 3
   },
   "file_extension": ".py",
   "mimetype": "text/x-python",
   "name": "python",
   "nbconvert_exporter": "python",
   "pygments_lexer": "ipython3",
   "version": "3.9.6"
  }
 },
 "nbformat": 4,
 "nbformat_minor": 2
}
