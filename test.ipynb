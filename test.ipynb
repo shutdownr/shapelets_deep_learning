{
 "cells": [
  {
   "cell_type": "code",
   "execution_count": null,
   "metadata": {},
   "outputs": [],
   "source": [
    "%load_ext autoreload\n",
    "%autoreload 2\n",
    "\n",
    "import matplotlib.pyplot as plt\n",
    "import numpy as np\n",
    "from sklearn.model_selection import train_test_split\n",
    "import torch\n",
    "\n",
    "from data_loader import DataLoader\n",
    "from pipeline import get_default_config, plot_history\n",
    "from pipeline import classify_shapelets_mts, train_mts\n",
    "from pipeline import classify_shapelets_text, train_text"
   ]
  },
  {
   "cell_type": "markdown",
   "metadata": {},
   "source": [
    "# Data Loading"
   ]
  },
  {
   "cell_type": "code",
   "execution_count": null,
   "metadata": {},
   "outputs": [],
   "source": [
    "data_loader = DataLoader()\n",
    "# Preload the MTS datasets\n",
    "mts_datasets = data_loader.get_mts_datasets()"
   ]
  },
  {
   "cell_type": "markdown",
   "metadata": {},
   "source": [
    "# Time Series"
   ]
  },
  {
   "cell_type": "code",
   "execution_count": null,
   "metadata": {},
   "outputs": [],
   "source": [
    "# Note: Can put all parameters in the config dict\n",
    "#       Can then do whatever ablation studies / experiments with that\n",
    "config = get_default_config()\n",
    "config[\"stride\"] = 5\n",
    "for dataset in mts_datasets:\n",
    "    print(dataset)\n",
    "    X_train, y_train = data_loader.load_mts_dataset(dataset, split=\"train\")\n",
    "    X_test, y_test = data_loader.load_mts_dataset(dataset, split=\"test\")\n",
    "    # Filter for ragged datasets (e.g. JapaneseVowels)\n",
    "    if type(X_train) == list:\n",
    "        continue\n",
    "    history, encoder = train_mts(X_train, config, random_state=42, debug=False)\n",
    "    plot_history(history, f\"plots/encoder_training_{dataset}.pdf\")\n",
    "    \n",
    "    classify_shapelets_mts(X_train, y_train, X_test, y_test, config, encoder)"
   ]
  },
  {
   "cell_type": "markdown",
   "metadata": {},
   "source": [
    "# Text"
   ]
  },
  {
   "cell_type": "code",
   "execution_count": null,
   "metadata": {},
   "outputs": [],
   "source": [
    "# Text data loading\n",
    "X, y = data_loader.load_text_dataset(\"data\")\n",
    "train_indices, test_indices = train_test_split(np.arange(len(X)), stratify=y, train_size=200, test_size=100, random_state=42)\n",
    "X_train = X[train_indices]\n",
    "X_test = X[test_indices]\n",
    "y_train = y[train_indices]\n",
    "y_test = y[test_indices]\n",
    "print(X_train.shape)\n",
    "print(X_test.shape)"
   ]
  },
  {
   "cell_type": "code",
   "execution_count": null,
   "metadata": {},
   "outputs": [],
   "source": [
    "config = get_default_config()\n",
    "history, encoder = train_text(X_train, config, random_state=42, debug=True)"
   ]
  },
  {
   "cell_type": "code",
   "execution_count": null,
   "metadata": {},
   "outputs": [],
   "source": [
    "torch.save(encoder.state_dict(), \"encoder.pt\")"
   ]
  }
 ],
 "metadata": {
  "kernelspec": {
   "display_name": "Python 3",
   "language": "python",
   "name": "python3"
  },
  "language_info": {
   "codemirror_mode": {
    "name": "ipython",
    "version": 3
   },
   "file_extension": ".py",
   "mimetype": "text/x-python",
   "name": "python",
   "nbconvert_exporter": "python",
   "pygments_lexer": "ipython3",
   "version": "3.9.6"
  }
 },
 "nbformat": 4,
 "nbformat_minor": 2
}
